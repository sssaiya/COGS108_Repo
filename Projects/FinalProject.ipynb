{
 "cells": [
  {
   "cell_type": "markdown",
   "metadata": {},
   "source": [
    "# COGS 108 - Final Project "
   ]
  },
  {
   "cell_type": "markdown",
   "metadata": {},
   "source": [
    "# Overview"
   ]
  },
  {
   "cell_type": "markdown",
   "metadata": {},
   "source": [
    "*Fill in your overview here*"
   ]
  },
  {
   "cell_type": "markdown",
   "metadata": {},
   "source": [
    "# Names\n",
    "\n",
    "- Susmitha Kalidindi \n",
    "- Alyssa Ashmore \n",
    "- Shardul Saiya \n",
    "- Siyi Wang\n"
   ]
  },
  {
   "cell_type": "markdown",
   "metadata": {},
   "source": [
    "# Group Members IDs\n",
    "\n",
    "- A13167684\n",
    "- A12833150\n",
    "- A13964199\n",
    "- A53233349"
   ]
  },
  {
   "cell_type": "markdown",
   "metadata": {},
   "source": [
    "# Research Question"
   ]
  },
  {
   "cell_type": "markdown",
   "metadata": {},
   "source": [
    "- Question 1: Want to study how strong the correlation is between words used in product reviews with the ratings given for that product\n",
    "- Question 2: Want to study the relationship between specific language that users use in reviews, the value of the  ratings they give and whether they are “fake” or incentivized reviews\n",
    "\n",
    "Edit: Mapping the keywords in Amazon review text against the review ratings to see if words can be used to predict ratings."
   ]
  },
  {
   "cell_type": "markdown",
   "metadata": {},
   "source": [
    "## Background and Prior Work"
   ]
  },
  {
   "cell_type": "markdown",
   "metadata": {},
   "source": [
    "Background:\n",
    "\n",
    "References:\n",
    "- 1) https://reviewmeta.com/\n",
    "- 2) "
   ]
  },
  {
   "cell_type": "markdown",
   "metadata": {},
   "source": [
    "# Hypothesis\n"
   ]
  },
  {
   "cell_type": "markdown",
   "metadata": {},
   "source": []
  },
  {
   "cell_type": "markdown",
   "metadata": {},
   "source": [
    "# Dataset(s)"
   ]
  },
  {
   "cell_type": "markdown",
   "metadata": {},
   "source": [
    "Dataset Name: Consumer Reviews of Amazon Products\n",
    "Link to the dataset: https://www.kaggle.com/datafiniti/consumer-reviews-of-amazon-products#Datafiniti_Amazon_Consumer_Reviews_of_Amazon_Products_May19.csv\n",
    "Number of observations: 34,000 reviews\n",
    "\n",
    "This dataset contains a list of over 34,000 reviews of Amazon products like the Kindle, Fire TV, including measures on the \n",
    "\n",
    "If you plan to use multiple datasets, add 1-2 sentences about how you plan to combine these datasets."
   ]
  },
  {
   "cell_type": "markdown",
   "metadata": {},
   "source": [
    "# Setup"
   ]
  },
  {
   "cell_type": "code",
   "execution_count": null,
   "metadata": {},
   "outputs": [],
   "source": [
    "# setup for using the nltk library\n",
    "import nltk\n",
    "#nltk.download() # NEED TO DOWNLOAD THIS TO USE NLTK \n",
    "from nltk.sentiment.vader import SentimentIntensityAnalyzer\n"
   ]
  },
  {
   "cell_type": "code",
   "execution_count": null,
   "metadata": {
    "collapsed": true
   },
   "outputs": [],
   "source": [
    "## Import Data from CSV file here, SEE Project proposal for link to csv file\n",
    "import pandas as pd \n",
    "dfraw = pd.read_csv(\"../consumer-reviews-of-amazon-products/1429_1.csv\", engine = 'python')\n",
    "df2 = pd.read_csv(\"../consumer-reviews-of-amazon-products/Datafiniti_Amazon_Consumer_Reviews_of_Amazon_Products.csv\", engine = 'python')\n"
   ]
  },
  {
   "cell_type": "markdown",
   "metadata": {},
   "source": [
    "# Data Cleaning"
   ]
  },
  {
   "cell_type": "markdown",
   "metadata": {},
   "source": [
    "Describe your data cleaning steps here."
   ]
  },
  {
   "cell_type": "code",
   "execution_count": null,
   "metadata": {
    "collapsed": true
   },
   "outputs": [],
   "source": [
    "# Get rid of most unwanted rows, only keep \n",
    "# Name, Category, Reviews.DoRecommend, Review.numHelpful, Reviews.ratings, Review.text, Review.title \n",
    "\n",
    "df1 = dfraw.drop(['asins', 'brand', 'keys', 'manufacturer', 'reviews.sourceURLs', 'reviews.userCity', \n",
    "                  'reviews.userProvince', 'reviews.username', 'reviews.dateAdded', 'reviews.dateSeen', \n",
    "                  'reviews.didPurchase' , 'reviews.id', 'id' ], axis=1)\n",
    "\n",
    "#get rid of rewiews without ratings\n",
    "df1 = df1.dropna(subset=['reviews.rating', 'reviews.text', 'reviews.text'])\n",
    "\n",
    "# Now df1 contains:\n",
    "# name, categories, reviews.date, reviews.doRecommend,\n",
    "# reviews.numHelpful, reviews.rating, reviews.text, reviews.title"
   ]
  },
  {
   "cell_type": "code",
   "execution_count": null,
   "metadata": {
    "collapsed": true
   },
   "outputs": [],
   "source": [
    "#helper function to filter data\n",
    "def filter_review(review):\n",
    "    # Convert to string\n",
    "    string = str(review)\n",
    "    \n",
    "    # Data Filtering\n",
    "    string = string.replace('.', ' ')\n",
    "    string = string.replace(',', ' ')\n",
    "    string = string.replace('-', ' ')\n",
    "    # string = string.replace('\\'', ' ')\n",
    "    string = string.replace('\\\"', ' ')\n",
    "    string = string.replace('/', ' ')\n",
    "    string = string.replace('(', ' ')\n",
    "    string = string.replace(')', ' ')\n",
    "    string = string.replace('!', ' ')\n",
    "    string = string.replace('?', ' ')\n",
    "    string = string.replace('=', ' ')\n",
    "    string = string.replace('+', ' ')\n",
    "    string = string.replace('-', ' ')\n",
    "    string = string.replace('�', '')\n",
    "    string = string.replace('☺️', ' ')\n",
    "    string = string.replace('&', ' ')\n",
    "    string = string.replace('$', ' ')\n",
    "    string = string.replace('*', ' ')\n",
    "    string = string.replace('%', ' ')\n",
    "\n",
    "    \n",
    "    return string"
   ]
  },
  {
   "cell_type": "code",
   "execution_count": null,
   "metadata": {
    "collapsed": true
   },
   "outputs": [],
   "source": [
    "# dictionary to count all unique words in customer reviews\n",
    "# contains word : frequency\n",
    "words_dict = {}\n",
    "\n",
    "# Helper function to count words in a string \n",
    "# This function directly modifies the words_dict declared above\n",
    "def word_frequency_counter(review):\n",
    "    \n",
    "    string = filter_review(review)\n",
    "\n",
    "    # Convert to lower case and split\n",
    "    my_string = string.lower().split()\n",
    "    for item in my_string:\n",
    "        if item in words_dict:\n",
    "            words_dict[item] += 1\n",
    "        else:\n",
    "            words_dict[item] = 1"
   ]
  },
  {
   "cell_type": "code",
   "execution_count": null,
   "metadata": {
    "collapsed": true
   },
   "outputs": [],
   "source": [
    "# dictionary to count raw rating value of each word\n",
    "rating_dict = {}\n",
    "\n",
    "#Helper function to add up raw review values for each word and \n",
    "def rating_counter(review, rating):\n",
    "    string = filter_review(review)\n",
    "    rating = int(rating)\n",
    "    \n",
    "    # Convert to lower case and split\n",
    "    my_string = string.lower().split()\n",
    "    for item in my_string:\n",
    "        if item in rating_dict:\n",
    "            rating_dict[item] = rating_dict[item] + rating\n",
    "        else:\n",
    "            rating_dict[item] = rating\n",
    "    "
   ]
  },
  {
   "cell_type": "code",
   "execution_count": null,
   "metadata": {},
   "outputs": [],
   "source": [
    "for review in df1['reviews.text']:\n",
    "    word_frequency_counter(review)\n",
    "print(words_dict)\n",
    "for index, row in df1.iterrows():\n",
    "    rating_counter(row['reviews.text'], row['reviews.rating'])"
   ]
  },
  {
   "cell_type": "code",
   "execution_count": null,
   "metadata": {
    "scrolled": true
   },
   "outputs": [],
   "source": [
    "# TODO\n",
    "# Visualize word frequency's for top words with a histogram or some other graph\n",
    "sorted_words_list = list(sorted(words_dict.items(), key=lambda item: item[1], reverse=True))\n",
    "words_list_20 = sorted_words_list[0:20] \n",
    "df_words = pd.DataFrame(words_list_20, columns=['word', 'frequency'])\n",
    "df_words.plot(kind='bar', x='word')"
   ]
  },
  {
   "cell_type": "code",
   "execution_count": null,
   "metadata": {},
   "outputs": [],
   "source": [
    "# TODO: (Susmitha) visualize the graph removing neutral words like \"the\", \"it\" to see if popular words are mainly positive or negative\n",
    "# using NLTK \n",
    "\n",
    "sid = SentimentIntensityAnalyzer()\n",
    "#rint(ss)\n",
    "import copy\n",
    "sorted_words_list = list(sorted(words_dict.items(), key=lambda item: item[1], reverse=True))\n",
    "sorted_words_list_nonneutral = copy.deepcopy(sorted_words_list)\n",
    "for item in sorted_words_list:\n",
    "    ss = sid.polarity_scores(item[0])\n",
    "    # if word is neutral, then don't include it in this graph\n",
    "    # we only care about positive/negative words\n",
    "    \n",
    "    if ss['neu'] == 1.0:\n",
    "        sorted_words_list_nonneutral.remove(item)    "
   ]
  },
  {
   "cell_type": "code",
   "execution_count": null,
   "metadata": {},
   "outputs": [],
   "source": [
    "# Visualize word frequency's for top words with a histogram or some other graph\n",
    "words_list_20 = sorted_words_list_nonneutral[0:20] \n",
    "df_words = pd.DataFrame(words_list_20, columns=['word', 'frequency'])\n",
    "df_words.plot(kind='bar', x='word')"
   ]
  },
  {
   "cell_type": "code",
   "execution_count": null,
   "metadata": {
    "collapsed": true
   },
   "outputs": [],
   "source": [
    "# Now we have two dictionaries\n",
    "# word_dict contains words associated with their frequency in all the ratings\n",
    "# rating_dict_raw cotains words associated with their raw rating values, summed up\n",
    "\n",
    "\n",
    "# Now we want to divide the values in rating_dict by the frequency values in word_dict\n",
    "# Thats what this helper function does, and saves it in rating_dict\n",
    "def ratings_avg(word_dict, rating_dict):\n",
    "    for item in word_dict:\n",
    "        if item in rating_dict:\n",
    "            rating_dict[item] = rating_dict[item]/word_dict[item]\n",
    "        else:\n",
    "            print('This shouldnt happen !!')\n",
    "    "
   ]
  },
  {
   "cell_type": "code",
   "execution_count": null,
   "metadata": {},
   "outputs": [],
   "source": [
    "ratings_avg(words_dict, rating_dict)\n",
    "print(rating_dict)"
   ]
  },
  {
   "cell_type": "code",
   "execution_count": null,
   "metadata": {
    "collapsed": true
   },
   "outputs": [],
   "source": [
    "# TODO\n",
    "# Visualize these average rating values with words\n"
   ]
  },
  {
   "cell_type": "markdown",
   "metadata": {},
   "source": [
    "# Data Analysis & Results"
   ]
  },
  {
   "cell_type": "markdown",
   "metadata": {},
   "source": [
    "Include cells that describe the steps in your data analysis."
   ]
  },
  {
   "cell_type": "code",
   "execution_count": null,
   "metadata": {
    "collapsed": true
   },
   "outputs": [],
   "source": [
    "# Now rating_dict has what we need to go ahead\n"
   ]
  },
  {
   "cell_type": "markdown",
   "metadata": {},
   "source": [
    "# Ethics & Privacy"
   ]
  },
  {
   "cell_type": "markdown",
   "metadata": {},
   "source": [
    "*Fill in your ethics & privacy discussion here*"
   ]
  },
  {
   "cell_type": "markdown",
   "metadata": {},
   "source": [
    "# Conclusion & Discussion"
   ]
  },
  {
   "cell_type": "markdown",
   "metadata": {},
   "source": [
    "*Fill in your discussion information here*"
   ]
  }
 ],
 "metadata": {
  "kernelspec": {
   "display_name": "Python 2",
   "language": "python",
   "name": "python2"
  },
  "language_info": {
   "codemirror_mode": {
    "name": "ipython",
    "version": 2
   },
   "file_extension": ".py",
   "mimetype": "text/x-python",
   "name": "python",
   "nbconvert_exporter": "python",
   "pygments_lexer": "ipython2",
   "version": "2.7.13"
  }
 },
 "nbformat": 4,
 "nbformat_minor": 2
}
