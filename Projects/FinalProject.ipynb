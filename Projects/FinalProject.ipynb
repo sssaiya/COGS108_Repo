{
 "cells": [
  {
   "cell_type": "markdown",
   "metadata": {},
   "source": [
    "# COGS 108 - Final Project "
   ]
  },
  {
   "cell_type": "markdown",
   "metadata": {},
   "source": [
    "# Overview"
   ]
  },
  {
   "cell_type": "markdown",
   "metadata": {},
   "source": [
    "*Fill in your overview here*"
   ]
  },
  {
   "cell_type": "markdown",
   "metadata": {},
   "source": [
    "# Names\n",
    "\n",
    "- Susmitha Kalidindi \n",
    "- Alyssa Ashmore \n",
    "- Shardul Saiya \n",
    "- Siyi Wang\n"
   ]
  },
  {
   "cell_type": "markdown",
   "metadata": {},
   "source": [
    "# Group Members IDs\n",
    "\n",
    "- A\n",
    "- A12833150\n",
    "- A13964199\n",
    "- A53233349"
   ]
  },
  {
   "cell_type": "markdown",
   "metadata": {},
   "source": [
    "# Research Question"
   ]
  },
  {
   "cell_type": "markdown",
   "metadata": {},
   "source": [
    "- Question 1: Want to study how strong the correlation is between words used in product reviews with the ratings given for that product\n",
    "- Question 2: Want to study the relationship between specific language that users use in reviews, the value of the  ratings they give and whether they are “fake” or incentivized reviews"
   ]
  },
  {
   "cell_type": "markdown",
   "metadata": {},
   "source": [
    "## Background and Prior Work"
   ]
  },
  {
   "cell_type": "markdown",
   "metadata": {},
   "source": [
    "*Fill in your background and prior work here* \n",
    "\n",
    "References (include links):\n",
    "- 1)\n",
    "- 2)"
   ]
  },
  {
   "cell_type": "markdown",
   "metadata": {},
   "source": [
    "# Hypothesis\n"
   ]
  },
  {
   "cell_type": "markdown",
   "metadata": {},
   "source": [
    "*Fill in your hypotheses here*"
   ]
  },
  {
   "cell_type": "markdown",
   "metadata": {},
   "source": [
    "# Dataset(s)"
   ]
  },
  {
   "cell_type": "markdown",
   "metadata": {},
   "source": [
    "*Fill in your dataset information here*\n",
    "\n",
    "(Copy this information for each dataset)\n",
    "- Dataset Name:\n",
    "- Link to the dataset:\n",
    "- Number of observations:\n",
    "\n",
    "1-2 sentences describing each dataset. \n",
    "\n",
    "If you plan to use multiple datasets, add 1-2 sentences about how you plan to combine these datasets."
   ]
  },
  {
   "cell_type": "markdown",
   "metadata": {},
   "source": [
    "# Setup"
   ]
  },
  {
   "cell_type": "code",
   "execution_count": 23,
   "metadata": {},
   "outputs": [],
   "source": [
    "## Import Data from CSV file here, SEE Project proposal for link to csv file\n",
    "import pandas as pd \n",
    "dfraw = pd.read_csv(\"../consumer-reviews-of-amazon-products/1429_1.csv\", engine = 'python')\n",
    "df2 = pd.read_csv(\"../consumer-reviews-of-amazon-products/Datafiniti_Amazon_Consumer_Reviews_of_Amazon_Products.csv\", engine = 'python')\n"
   ]
  },
  {
   "cell_type": "markdown",
   "metadata": {},
   "source": [
    "# Data Cleaning"
   ]
  },
  {
   "cell_type": "markdown",
   "metadata": {},
   "source": [
    "Describe your data cleaning steps here."
   ]
  },
  {
   "cell_type": "code",
   "execution_count": 35,
   "metadata": {},
   "outputs": [],
   "source": [
    "# Get rid of most unwanted rows, only keep \n",
    "# Name, Category, Reviews.DoRecommend, Review.numHelpful, Reviews.ratings, Review.text, Review.title \n",
    "\n",
    "df1 = dfraw.drop(['asins', 'brand', 'keys', 'manufacturer', 'reviews.sourceURLs', 'reviews.userCity', \n",
    "                  'reviews.userProvince', 'reviews.username', 'reviews.dateAdded', 'reviews.dateSeen', \n",
    "                  'reviews.didPurchase' , 'reviews.id', 'id' ], axis=1)\n",
    "\n",
    "#get rid of rewiews without ratings\n",
    "df1 = df1.dropna(subset=['reviews.rating', 'reviews.text', 'reviews.text'])\n",
    "\n",
    "# Now df1 contains:\n",
    "# name, categories, reviews.date, reviews.doRecommend,\n",
    "# reviews.numHelpful, reviews.rating, reviews.text, reviews.title"
   ]
  },
  {
   "cell_type": "code",
   "execution_count": 36,
   "metadata": {},
   "outputs": [],
   "source": [
    "#helper function to filter data\n",
    "def filter_review(review):\n",
    "    # Convert to string\n",
    "    string = str(review)\n",
    "    \n",
    "    # Data Filtering\n",
    "    string = string.replace('.', ' ')\n",
    "    string = string.replace(',', ' ')\n",
    "    string = string.replace('-', ' ')\n",
    "    # string = string.replace('\\'', ' ')\n",
    "    string = string.replace('\\\"', ' ')\n",
    "    string = string.replace('/', ' ')\n",
    "    string = string.replace('(', ' ')\n",
    "    string = string.replace(')', ' ')\n",
    "    string = string.replace('!', ' ')\n",
    "    string = string.replace('?', ' ')\n",
    "    string = string.replace('=', ' ')\n",
    "    string = string.replace('+', ' ')\n",
    "    string = string.replace('-', ' ')\n",
    "    string = string.replace('�', '')\n",
    "    string = string.replace('☺️', ' ')\n",
    "    string = string.replace('&', ' ')\n",
    "    string = string.replace('$', ' ')\n",
    "    string = string.replace('*', ' ')\n",
    "    string = string.replace('%', ' ')\n",
    "\n",
    "    \n",
    "    return string"
   ]
  },
  {
   "cell_type": "code",
   "execution_count": 37,
   "metadata": {},
   "outputs": [],
   "source": [
    "# dictionary to count all unique words in customer reviews\n",
    "# contains word : frequency\n",
    "words_dict = {}\n",
    "\n",
    "# Helper function to count words in a string \n",
    "# This function directly modifies the words_dict declared above\n",
    "def word_frequency_counter(review):\n",
    "    \n",
    "    string = filter_review(review)\n",
    "\n",
    "    # Convert to lower case and split\n",
    "    my_string = string.lower().split()\n",
    "    for item in my_string:\n",
    "        if item in words_dict:\n",
    "            words_dict[item] += 1\n",
    "        else:\n",
    "            words_dict[item] = 1"
   ]
  },
  {
   "cell_type": "code",
   "execution_count": 38,
   "metadata": {},
   "outputs": [],
   "source": [
    "# dictionay to count raw rating value of each word\n",
    "rating_dict = {}\n",
    "\n",
    "#Helper function to add up raw review values for each word and \n",
    "def rating_counter(review, rating):\n",
    "    string = filter_review(review)\n",
    "    rating = int(rating)\n",
    "    \n",
    "    # Convert to lower case and split\n",
    "    my_string = string.lower().split()\n",
    "    for item in my_string:\n",
    "        if item in rating_dict:\n",
    "            rating_dict[item] = rating_dict[item] + rating\n",
    "        else:\n",
    "            rating_dict[item] = rating\n",
    "    "
   ]
  },
  {
   "cell_type": "code",
   "execution_count": 39,
   "metadata": {},
   "outputs": [],
   "source": [
    "for review in df1['reviews.text']:\n",
    "    word_frequency_counter(review)\n",
    "for index, row in df1.iterrows():\n",
    "    rating_counter(row['reviews.text'], row['reviews.rating'])"
   ]
  },
  {
   "cell_type": "code",
   "execution_count": 40,
   "metadata": {},
   "outputs": [],
   "source": [
    "# TODO\n",
    "# Visualize word frequency's for top words with a histogram or some other graph"
   ]
  },
  {
   "cell_type": "code",
   "execution_count": 41,
   "metadata": {},
   "outputs": [],
   "source": [
    "# Now we have two dictionaries\n",
    "# word_dict contains words associated with their frequency in all the ratings\n",
    "# rating_dict_raw cotains words associated with their raw rating values, summed up\n",
    "\n",
    "\n",
    "# Now we want to divide the values in rating_dict by the frequency values in word_dict\n",
    "# Thats what this helper function does, and saves it in rating_dict\n",
    "def ratings_avg(word_dict, rating_dict):\n",
    "    for item in word_dict:\n",
    "        if item in rating_dict:\n",
    "            rating_dict[item] = rating_dict[item]/word_dict[item]\n",
    "        else:\n",
    "            print('This shouldnt happen !!')\n",
    "    "
   ]
  },
  {
   "cell_type": "code",
   "execution_count": 42,
   "metadata": {},
   "outputs": [],
   "source": [
    "ratings_avg(words_dict, rating_dict)"
   ]
  },
  {
   "cell_type": "code",
   "execution_count": 43,
   "metadata": {},
   "outputs": [],
   "source": [
    "# TODO\n",
    "# Visualize these average rating values with words"
   ]
  },
  {
   "cell_type": "markdown",
   "metadata": {},
   "source": [
    "# Data Analysis & Results"
   ]
  },
  {
   "cell_type": "markdown",
   "metadata": {},
   "source": [
    "Include cells that describe the steps in your data analysis."
   ]
  },
  {
   "cell_type": "code",
   "execution_count": 44,
   "metadata": {},
   "outputs": [],
   "source": [
    "# Now rating_dict has what we need to go ahead"
   ]
  },
  {
   "cell_type": "markdown",
   "metadata": {},
   "source": [
    "# Ethics & Privacy"
   ]
  },
  {
   "cell_type": "markdown",
   "metadata": {},
   "source": [
    "*Fill in your ethics & privacy discussion here*"
   ]
  },
  {
   "cell_type": "markdown",
   "metadata": {},
   "source": [
    "# Conclusion & Discussion"
   ]
  },
  {
   "cell_type": "markdown",
   "metadata": {},
   "source": [
    "*Fill in your discussion information here*"
   ]
  }
 ],
 "metadata": {
  "kernelspec": {
   "display_name": "Python 3",
   "language": "python",
   "name": "python3"
  },
  "language_info": {
   "codemirror_mode": {
    "name": "ipython",
    "version": 3
   },
   "file_extension": ".py",
   "mimetype": "text/x-python",
   "name": "python",
   "nbconvert_exporter": "python",
   "pygments_lexer": "ipython3",
   "version": "3.7.3"
  }
 },
 "nbformat": 4,
 "nbformat_minor": 2
}
